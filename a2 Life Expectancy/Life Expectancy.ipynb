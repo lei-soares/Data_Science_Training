{
 "cells": [
  {
   "cell_type": "markdown",
   "id": "2badb9fd-48b4-40fa-a238-01777f76eabb",
   "metadata": {},
   "source": [
    "# Importing relevant libraries"
   ]
  },
  {
   "cell_type": "code",
   "execution_count": 1,
   "id": "e0d8d3de-68c9-46cd-8765-0547a2e18ae7",
   "metadata": {},
   "outputs": [],
   "source": [
    "import pandas as pd\n",
    "import matplotlib.pyplot as plt\n",
    "import numpy as np\n",
    "import seaborn as sns"
   ]
  },
  {
   "cell_type": "markdown",
   "id": "f50e7702-c9b2-49e6-988a-89f8b4617861",
   "metadata": {},
   "source": [
    "# Loading dataset"
   ]
  },
  {
   "cell_type": "code",
   "execution_count": 2,
   "id": "0d9cd4e6-511d-453d-bbdb-bb315f170b96",
   "metadata": {},
   "outputs": [
    {
     "name": "stdout",
     "output_type": "stream",
     "text": [
      "Dataset shape (96, 4) (number of rows vs columns\n"
     ]
    },
    {
     "data": {
      "text/html": [
       "<div>\n",
       "<style scoped>\n",
       "    .dataframe tbody tr th:only-of-type {\n",
       "        vertical-align: middle;\n",
       "    }\n",
       "\n",
       "    .dataframe tbody tr th {\n",
       "        vertical-align: top;\n",
       "    }\n",
       "\n",
       "    .dataframe thead th {\n",
       "        text-align: right;\n",
       "    }\n",
       "</style>\n",
       "<table border=\"1\" class=\"dataframe\">\n",
       "  <thead>\n",
       "    <tr style=\"text-align: right;\">\n",
       "      <th></th>\n",
       "      <th>Country</th>\n",
       "      <th>Year</th>\n",
       "      <th>Life expectancy at birth (years)</th>\n",
       "      <th>GDP</th>\n",
       "    </tr>\n",
       "  </thead>\n",
       "  <tbody>\n",
       "    <tr>\n",
       "      <th>0</th>\n",
       "      <td>Chile</td>\n",
       "      <td>2000</td>\n",
       "      <td>77.3</td>\n",
       "      <td>7.786093e+10</td>\n",
       "    </tr>\n",
       "    <tr>\n",
       "      <th>1</th>\n",
       "      <td>Chile</td>\n",
       "      <td>2001</td>\n",
       "      <td>77.3</td>\n",
       "      <td>7.097992e+10</td>\n",
       "    </tr>\n",
       "    <tr>\n",
       "      <th>2</th>\n",
       "      <td>Chile</td>\n",
       "      <td>2002</td>\n",
       "      <td>77.8</td>\n",
       "      <td>6.973681e+10</td>\n",
       "    </tr>\n",
       "    <tr>\n",
       "      <th>3</th>\n",
       "      <td>Chile</td>\n",
       "      <td>2003</td>\n",
       "      <td>77.9</td>\n",
       "      <td>7.564346e+10</td>\n",
       "    </tr>\n",
       "    <tr>\n",
       "      <th>4</th>\n",
       "      <td>Chile</td>\n",
       "      <td>2004</td>\n",
       "      <td>78.0</td>\n",
       "      <td>9.921039e+10</td>\n",
       "    </tr>\n",
       "  </tbody>\n",
       "</table>\n",
       "</div>"
      ],
      "text/plain": [
       "  Country  Year  Life expectancy at birth (years)           GDP\n",
       "0   Chile  2000                              77.3  7.786093e+10\n",
       "1   Chile  2001                              77.3  7.097992e+10\n",
       "2   Chile  2002                              77.8  6.973681e+10\n",
       "3   Chile  2003                              77.9  7.564346e+10\n",
       "4   Chile  2004                              78.0  9.921039e+10"
      ]
     },
     "execution_count": 2,
     "metadata": {},
     "output_type": "execute_result"
    }
   ],
   "source": [
    "data = pd.read_csv('all_data.csv')\n",
    "print(f'Dataset shape {data.shape} (number of rows vs columns')\n",
    "\n",
    "\n",
    "data.head()"
   ]
  },
  {
   "cell_type": "markdown",
   "id": "8ab9b7f6-fdf3-4ac3-ad4a-7313271630b3",
   "metadata": {},
   "source": [
    "# Quick data summary\n",
    "- Data type\n",
    "- Descriptive stats\n",
    "- Missing values\n",
    "- Duplicated"
   ]
  },
  {
   "cell_type": "code",
   "execution_count": 10,
   "id": "acca2adf-7db0-4c57-a72f-f5a3b5b6861d",
   "metadata": {},
   "outputs": [
    {
     "data": {
      "text/plain": [
       "Country                              object\n",
       "Year                                  int64\n",
       "Life expectancy at birth (years)    float64\n",
       "GDP                                 float64\n",
       "dtype: object"
      ]
     },
     "execution_count": 10,
     "metadata": {},
     "output_type": "execute_result"
    }
   ],
   "source": [
    "# Data Structute\n",
    "data.dtypes"
   ]
  },
  {
   "cell_type": "code",
   "execution_count": 9,
   "id": "1bd68411-a92b-4c5e-b51d-56022ab92cde",
   "metadata": {},
   "outputs": [
    {
     "data": {
      "text/html": [
       "<div>\n",
       "<style scoped>\n",
       "    .dataframe tbody tr th:only-of-type {\n",
       "        vertical-align: middle;\n",
       "    }\n",
       "\n",
       "    .dataframe tbody tr th {\n",
       "        vertical-align: top;\n",
       "    }\n",
       "\n",
       "    .dataframe thead th {\n",
       "        text-align: right;\n",
       "    }\n",
       "</style>\n",
       "<table border=\"1\" class=\"dataframe\">\n",
       "  <thead>\n",
       "    <tr style=\"text-align: right;\">\n",
       "      <th></th>\n",
       "      <th>Country</th>\n",
       "      <th>Year</th>\n",
       "      <th>Life expectancy at birth (years)</th>\n",
       "      <th>GDP</th>\n",
       "    </tr>\n",
       "  </thead>\n",
       "  <tbody>\n",
       "    <tr>\n",
       "      <th>count</th>\n",
       "      <td>96</td>\n",
       "      <td>96.000000</td>\n",
       "      <td>96.000000</td>\n",
       "      <td>9.600000e+01</td>\n",
       "    </tr>\n",
       "    <tr>\n",
       "      <th>unique</th>\n",
       "      <td>6</td>\n",
       "      <td>NaN</td>\n",
       "      <td>NaN</td>\n",
       "      <td>NaN</td>\n",
       "    </tr>\n",
       "    <tr>\n",
       "      <th>top</th>\n",
       "      <td>Chile</td>\n",
       "      <td>NaN</td>\n",
       "      <td>NaN</td>\n",
       "      <td>NaN</td>\n",
       "    </tr>\n",
       "    <tr>\n",
       "      <th>freq</th>\n",
       "      <td>16</td>\n",
       "      <td>NaN</td>\n",
       "      <td>NaN</td>\n",
       "      <td>NaN</td>\n",
       "    </tr>\n",
       "    <tr>\n",
       "      <th>mean</th>\n",
       "      <td>NaN</td>\n",
       "      <td>2007.500000</td>\n",
       "      <td>72.789583</td>\n",
       "      <td>3.880499e+12</td>\n",
       "    </tr>\n",
       "    <tr>\n",
       "      <th>std</th>\n",
       "      <td>NaN</td>\n",
       "      <td>4.633971</td>\n",
       "      <td>10.672882</td>\n",
       "      <td>5.197561e+12</td>\n",
       "    </tr>\n",
       "    <tr>\n",
       "      <th>min</th>\n",
       "      <td>NaN</td>\n",
       "      <td>2000.000000</td>\n",
       "      <td>44.300000</td>\n",
       "      <td>4.415703e+09</td>\n",
       "    </tr>\n",
       "    <tr>\n",
       "      <th>25%</th>\n",
       "      <td>NaN</td>\n",
       "      <td>2003.750000</td>\n",
       "      <td>74.475000</td>\n",
       "      <td>1.733018e+11</td>\n",
       "    </tr>\n",
       "    <tr>\n",
       "      <th>50%</th>\n",
       "      <td>NaN</td>\n",
       "      <td>2007.500000</td>\n",
       "      <td>76.750000</td>\n",
       "      <td>1.280220e+12</td>\n",
       "    </tr>\n",
       "    <tr>\n",
       "      <th>75%</th>\n",
       "      <td>NaN</td>\n",
       "      <td>2011.250000</td>\n",
       "      <td>78.900000</td>\n",
       "      <td>4.067510e+12</td>\n",
       "    </tr>\n",
       "    <tr>\n",
       "      <th>max</th>\n",
       "      <td>NaN</td>\n",
       "      <td>2015.000000</td>\n",
       "      <td>81.000000</td>\n",
       "      <td>1.810000e+13</td>\n",
       "    </tr>\n",
       "  </tbody>\n",
       "</table>\n",
       "</div>"
      ],
      "text/plain": [
       "       Country         Year  Life expectancy at birth (years)           GDP\n",
       "count       96    96.000000                         96.000000  9.600000e+01\n",
       "unique       6          NaN                               NaN           NaN\n",
       "top      Chile          NaN                               NaN           NaN\n",
       "freq        16          NaN                               NaN           NaN\n",
       "mean       NaN  2007.500000                         72.789583  3.880499e+12\n",
       "std        NaN     4.633971                         10.672882  5.197561e+12\n",
       "min        NaN  2000.000000                         44.300000  4.415703e+09\n",
       "25%        NaN  2003.750000                         74.475000  1.733018e+11\n",
       "50%        NaN  2007.500000                         76.750000  1.280220e+12\n",
       "75%        NaN  2011.250000                         78.900000  4.067510e+12\n",
       "max        NaN  2015.000000                         81.000000  1.810000e+13"
      ]
     },
     "execution_count": 9,
     "metadata": {},
     "output_type": "execute_result"
    }
   ],
   "source": [
    "# Descriptive Statistics\n",
    "data.describe(include='all')"
   ]
  },
  {
   "cell_type": "code",
   "execution_count": 11,
   "id": "63efdd77-11cf-4e05-9a66-8a7a73f4e2a4",
   "metadata": {},
   "outputs": [
    {
     "data": {
      "text/plain": [
       "Country                             0\n",
       "Year                                0\n",
       "Life expectancy at birth (years)    0\n",
       "GDP                                 0\n",
       "dtype: int64"
      ]
     },
     "execution_count": 11,
     "metadata": {},
     "output_type": "execute_result"
    }
   ],
   "source": [
    "# Checking for missing \n",
    "data.isna().sum()"
   ]
  },
  {
   "cell_type": "code",
   "execution_count": 12,
   "id": "97e2f7cb-2cbe-428f-ae96-2fad59cd185b",
   "metadata": {},
   "outputs": [
    {
     "data": {
      "text/plain": [
       "0"
      ]
     },
     "execution_count": 12,
     "metadata": {},
     "output_type": "execute_result"
    }
   ],
   "source": [
    "# Checking for duplicated data\n",
    "data.duplicated().sum()"
   ]
  },
  {
   "cell_type": "markdown",
   "id": "c195a371-cea8-44ce-b152-d48135f76d59",
   "metadata": {},
   "source": [
    "### OBS\n",
    "- There is `NO` MISSING values\n",
    "- There is `NO` duplicated observation\n",
    "\n",
    "- One `object` feature, one `intenger` (natural number) feature, and two `float` (real number) float\n",
    "    "
   ]
  },
  {
   "cell_type": "markdown",
   "id": "45f7c78c-f865-4f33-a11f-f499d34a4528",
   "metadata": {},
   "source": [
    "# Basic Data tranformation\n",
    "So, it is clear that feature `Year` can be seen as categorical feature, in other wordes, distinct year which the obeservation were record for 6 uniques countries.\n",
    "\n",
    "For analysis this variable, `Year` will be explored as ordinal categorical variable while `country` will be nominal categorical variable, the remaining is just continuous numerical variables"
   ]
  },
  {
   "cell_type": "code",
   "execution_count": 25,
   "id": "d65f4a98-9a18-4f3a-8999-1247efc58bd6",
   "metadata": {},
   "outputs": [],
   "source": [
    "# Rename the variable by lowering case\n",
    "data.columns = data.columns.str.lower()\n",
    "\n",
    "data.rename(columns = {'life expectancy at birth (years)' : 'life_expectancy'}, inplace=True)"
   ]
  },
  {
   "cell_type": "code",
   "execution_count": 17,
   "id": "096cc386-523e-4dfb-a2a5-c9a5d7e489a8",
   "metadata": {},
   "outputs": [],
   "source": [
    "# convert `Year` to object variable\n",
    "\n",
    "data.year = data.year.astype('object')"
   ]
  },
  {
   "cell_type": "code",
   "execution_count": 26,
   "id": "9c203ff0-d675-4a94-aaa3-9cc1958620b5",
   "metadata": {},
   "outputs": [],
   "source": [
    "# Variables name by categories\n",
    "var_name = {'cat' : ['country', 'year'],\n",
    "           'num' : ['life_expectancy', 'gdp']}"
   ]
  },
  {
   "cell_type": "code",
   "execution_count": 27,
   "id": "850ade45-5722-4173-8da4-b52eaabf001d",
   "metadata": {},
   "outputs": [
    {
     "data": {
      "text/html": [
       "<div>\n",
       "<style scoped>\n",
       "    .dataframe tbody tr th:only-of-type {\n",
       "        vertical-align: middle;\n",
       "    }\n",
       "\n",
       "    .dataframe tbody tr th {\n",
       "        vertical-align: top;\n",
       "    }\n",
       "\n",
       "    .dataframe thead th {\n",
       "        text-align: right;\n",
       "    }\n",
       "</style>\n",
       "<table border=\"1\" class=\"dataframe\">\n",
       "  <thead>\n",
       "    <tr style=\"text-align: right;\">\n",
       "      <th></th>\n",
       "      <th>country</th>\n",
       "      <th>year</th>\n",
       "      <th>life_expectancy</th>\n",
       "      <th>gdp</th>\n",
       "    </tr>\n",
       "  </thead>\n",
       "  <tbody>\n",
       "    <tr>\n",
       "      <th>0</th>\n",
       "      <td>Chile</td>\n",
       "      <td>2000</td>\n",
       "      <td>77.3</td>\n",
       "      <td>7.786093e+10</td>\n",
       "    </tr>\n",
       "    <tr>\n",
       "      <th>1</th>\n",
       "      <td>Chile</td>\n",
       "      <td>2001</td>\n",
       "      <td>77.3</td>\n",
       "      <td>7.097992e+10</td>\n",
       "    </tr>\n",
       "    <tr>\n",
       "      <th>2</th>\n",
       "      <td>Chile</td>\n",
       "      <td>2002</td>\n",
       "      <td>77.8</td>\n",
       "      <td>6.973681e+10</td>\n",
       "    </tr>\n",
       "    <tr>\n",
       "      <th>3</th>\n",
       "      <td>Chile</td>\n",
       "      <td>2003</td>\n",
       "      <td>77.9</td>\n",
       "      <td>7.564346e+10</td>\n",
       "    </tr>\n",
       "    <tr>\n",
       "      <th>4</th>\n",
       "      <td>Chile</td>\n",
       "      <td>2004</td>\n",
       "      <td>78.0</td>\n",
       "      <td>9.921039e+10</td>\n",
       "    </tr>\n",
       "    <tr>\n",
       "      <th>...</th>\n",
       "      <td>...</td>\n",
       "      <td>...</td>\n",
       "      <td>...</td>\n",
       "      <td>...</td>\n",
       "    </tr>\n",
       "    <tr>\n",
       "      <th>91</th>\n",
       "      <td>Zimbabwe</td>\n",
       "      <td>2011</td>\n",
       "      <td>54.9</td>\n",
       "      <td>1.209845e+10</td>\n",
       "    </tr>\n",
       "    <tr>\n",
       "      <th>92</th>\n",
       "      <td>Zimbabwe</td>\n",
       "      <td>2012</td>\n",
       "      <td>56.6</td>\n",
       "      <td>1.424249e+10</td>\n",
       "    </tr>\n",
       "    <tr>\n",
       "      <th>93</th>\n",
       "      <td>Zimbabwe</td>\n",
       "      <td>2013</td>\n",
       "      <td>58.0</td>\n",
       "      <td>1.545177e+10</td>\n",
       "    </tr>\n",
       "    <tr>\n",
       "      <th>94</th>\n",
       "      <td>Zimbabwe</td>\n",
       "      <td>2014</td>\n",
       "      <td>59.2</td>\n",
       "      <td>1.589105e+10</td>\n",
       "    </tr>\n",
       "    <tr>\n",
       "      <th>95</th>\n",
       "      <td>Zimbabwe</td>\n",
       "      <td>2015</td>\n",
       "      <td>60.7</td>\n",
       "      <td>1.630467e+10</td>\n",
       "    </tr>\n",
       "  </tbody>\n",
       "</table>\n",
       "<p>96 rows × 4 columns</p>\n",
       "</div>"
      ],
      "text/plain": [
       "     country  year  life_expectancy           gdp\n",
       "0      Chile  2000             77.3  7.786093e+10\n",
       "1      Chile  2001             77.3  7.097992e+10\n",
       "2      Chile  2002             77.8  6.973681e+10\n",
       "3      Chile  2003             77.9  7.564346e+10\n",
       "4      Chile  2004             78.0  9.921039e+10\n",
       "..       ...   ...              ...           ...\n",
       "91  Zimbabwe  2011             54.9  1.209845e+10\n",
       "92  Zimbabwe  2012             56.6  1.424249e+10\n",
       "93  Zimbabwe  2013             58.0  1.545177e+10\n",
       "94  Zimbabwe  2014             59.2  1.589105e+10\n",
       "95  Zimbabwe  2015             60.7  1.630467e+10\n",
       "\n",
       "[96 rows x 4 columns]"
      ]
     },
     "execution_count": 27,
     "metadata": {},
     "output_type": "execute_result"
    }
   ],
   "source": [
    "data"
   ]
  },
  {
   "cell_type": "markdown",
   "id": "65578305-a2c0-4f28-94cf-89fef4cef9f1",
   "metadata": {},
   "source": [
    "# Exploratory Data Analysis (EDA)\n",
    "Let's realize EDA in our dataset\n",
    "- Univariate Stats Analysis\n",
    "- Bivariate Stats Analysis\n",
    "- Multivariates Stats Analys\n",
    "- Data Viasualization\n",
    "- Maybe - Clustering"
   ]
  },
  {
   "cell_type": "markdown",
   "id": "33d0fde9-d76c-4f6d-bb57-d2308367cc08",
   "metadata": {},
   "source": [
    "## Univariate DA\n",
    "### Categorical Var\n",
    "- year and country\n",
    "\n",
    "#### Year\n",
    "- How  many year observed?\n",
    "- Their distribution"
   ]
  },
  {
   "cell_type": "code",
   "execution_count": 29,
   "id": "6483dd15-efcf-4051-8a98-7c99e45637e9",
   "metadata": {},
   "outputs": [
    {
     "data": {
      "text/plain": [
       "year\n",
       "2000    6\n",
       "2001    6\n",
       "2002    6\n",
       "2003    6\n",
       "2004    6\n",
       "2005    6\n",
       "2006    6\n",
       "2007    6\n",
       "2008    6\n",
       "2009    6\n",
       "2010    6\n",
       "2011    6\n",
       "2012    6\n",
       "2013    6\n",
       "2014    6\n",
       "2015    6\n",
       "Name: count, dtype: int64"
      ]
     },
     "execution_count": 29,
     "metadata": {},
     "output_type": "execute_result"
    }
   ],
   "source": [
    "# Distinct year\n",
    "data.year.value_counts()"
   ]
  },
  {
   "cell_type": "markdown",
   "id": "27923df3-d25e-4cc0-bf1a-49a9918e413e",
   "metadata": {},
   "source": [
    "__OBS__:\n",
    " - It is uniformily distributed, data recorded for  16 year realted to six countries\n",
    "\n",
    " #### Country"
   ]
  },
  {
   "cell_type": "code",
   "execution_count": 34,
   "id": "7c881186-ce77-4ea7-ad0b-504e22eb465a",
   "metadata": {},
   "outputs": [
    {
     "data": {
      "text/plain": [
       "country\n",
       "Chile                       16\n",
       "China                       16\n",
       "Germany                     16\n",
       "Mexico                      16\n",
       "United States of America    16\n",
       "Zimbabwe                    16\n",
       "Name: count, dtype: int64"
      ]
     },
     "execution_count": 34,
     "metadata": {},
     "output_type": "execute_result"
    }
   ],
   "source": [
    "# Which countries and how many data point observaved for each?\n",
    "data.country.value_counts()"
   ]
  },
  {
   "cell_type": "code",
   "execution_count": 37,
   "id": "d9b888f5-1e9a-4938-ae42-a533eadf03ec",
   "metadata": {},
   "outputs": [
    {
     "name": "stdout",
     "output_type": "stream",
     "text": [
      "These are the countries: ['Chile', 'China', 'Germany', 'Mexico', 'United States of America', 'Zimbabwe']\n"
     ]
    }
   ],
   "source": [
    "print(f\"These are the countries: {sorted(data.country.unique())}\")"
   ]
  },
  {
   "cell_type": "markdown",
   "id": "adaf344a-7611-465e-a9da-5505b0dceae1",
   "metadata": {},
   "source": [
    "## Numerical Variables \n",
    "- life_expectancy and gdp\n",
    "\n",
    "### Life Expectancy"
   ]
  },
  {
   "cell_type": "code",
   "execution_count": 39,
   "id": "bea1fe82-38fa-45e2-a58f-40902562bfa8",
   "metadata": {},
   "outputs": [
    {
     "data": {
      "text/plain": [
       "count    96.000000\n",
       "mean     72.789583\n",
       "std      10.672882\n",
       "min      44.300000\n",
       "25%      74.475000\n",
       "50%      76.750000\n",
       "75%      78.900000\n",
       "max      81.000000\n",
       "Name: life_expectancy, dtype: float64"
      ]
     },
     "execution_count": 39,
     "metadata": {},
     "output_type": "execute_result"
    }
   ],
   "source": [
    "# distribution of life_expectancy\n",
    "data.life_expectancy.describe()"
   ]
  },
  {
   "cell_type": "markdown",
   "id": "7790dfc1-2bd2-45b9-b32a-39a97056f290",
   "metadata": {},
   "source": [
    "OBS:\n",
    "- Minimum year life expectancy is 44 yers, maximum for 81 with mean of 72 years.\n",
    "- Most of recorded data is close \n",
    "### GDP"
   ]
  },
  {
   "cell_type": "code",
   "execution_count": 40,
   "id": "a85656f3-dd1b-4dfa-97c9-7f44e973ad8e",
   "metadata": {},
   "outputs": [
    {
     "data": {
      "text/plain": [
       "count    9.600000e+01\n",
       "mean     3.880499e+12\n",
       "std      5.197561e+12\n",
       "min      4.415703e+09\n",
       "25%      1.733018e+11\n",
       "50%      1.280220e+12\n",
       "75%      4.067510e+12\n",
       "max      1.810000e+13\n",
       "Name: gdp, dtype: float64"
      ]
     },
     "execution_count": 40,
     "metadata": {},
     "output_type": "execute_result"
    }
   ],
   "source": [
    "data.gdp.describe()"
   ]
  },
  {
   "cell_type": "code",
   "execution_count": null,
   "id": "ba5a3ebb-219f-4cea-a144-885ff3bf3dcb",
   "metadata": {},
   "outputs": [],
   "source": []
  }
 ],
 "metadata": {
  "kernelspec": {
   "display_name": "Python 3 (ipykernel)",
   "language": "python",
   "name": "python3"
  },
  "language_info": {
   "codemirror_mode": {
    "name": "ipython",
    "version": 3
   },
   "file_extension": ".py",
   "mimetype": "text/x-python",
   "name": "python",
   "nbconvert_exporter": "python",
   "pygments_lexer": "ipython3",
   "version": "3.12.7"
  }
 },
 "nbformat": 4,
 "nbformat_minor": 5
}
