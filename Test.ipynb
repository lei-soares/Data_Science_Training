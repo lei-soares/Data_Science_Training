{
 "cells": [
  {
   "cell_type": "markdown",
   "id": "488b8b65-8963-42f7-9fe3-f51afc22dfd7",
   "metadata": {},
   "source": [
    "# Testing set"
   ]
  },
  {
   "cell_type": "code",
   "execution_count": 1,
   "id": "ad22c09a-648c-4b13-9c62-e54d861aede0",
   "metadata": {},
   "outputs": [],
   "source": [
    "import pandas as pd\n",
    "import numpy as np\n",
    "import matplotlib.pyplot as plt\n",
    "import seaborn as sns"
   ]
  },
  {
   "cell_type": "markdown",
   "id": "7b54f3a3-ca7b-4515-88b2-5dc939318d73",
   "metadata": {},
   "source": [
    "# Loading Dataset to memory"
   ]
  },
  {
   "cell_type": "code",
   "execution_count": null,
   "id": "1efba4dd-891f-45e2-8a68-93b4e1fce0aa",
   "metadata": {},
   "outputs": [],
   "source": []
  },
  {
   "cell_type": "code",
   "execution_count": null,
   "id": "55ce28ec-2b44-4e5c-9ca3-536ecaefb514",
   "metadata": {},
   "outputs": [],
   "source": []
  }
 ],
 "metadata": {
  "kernelspec": {
   "display_name": "Python 3 (ipykernel)",
   "language": "python",
   "name": "python3"
  },
  "language_info": {
   "codemirror_mode": {
    "name": "ipython",
    "version": 3
   },
   "file_extension": ".py",
   "mimetype": "text/x-python",
   "name": "python",
   "nbconvert_exporter": "python",
   "pygments_lexer": "ipython3",
   "version": "3.12.7"
  }
 },
 "nbformat": 4,
 "nbformat_minor": 5
}
